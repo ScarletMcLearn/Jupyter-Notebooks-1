{
 "cells": [
  {
   "cell_type": "markdown",
   "metadata": {},
   "source": [
    "# Analyzing Big Data"
   ]
  },
  {
   "cell_type": "markdown",
   "metadata": {},
   "source": [
    "Big data means collecting, storing, and processing data at a large scale on multiple machines."
   ]
  },
  {
   "cell_type": "markdown",
   "metadata": {},
   "source": [
    "## The Challenges of Data Science"
   ]
  },
  {
   "cell_type": "markdown",
   "metadata": {},
   "source": [
    "1. Vast majority of work goes into feature engineering and selection, i.e preprocessing steps.\n",
    "2. Iteration: Modeling and analysis require multiple passes over the same data.\n",
    "3. Provide the same model in data applications."
   ]
  },
  {
   "cell_type": "markdown",
   "metadata": {},
   "source": [
    "## Introducing Apache Spark"
   ]
  },
  {
   "cell_type": "markdown",
   "metadata": {},
   "source": [
    "Apache Spark is an open source framework that combines an engine for distributing programs across clusters of machines with an elegant model for writing programs atop it.\n",
    "\n",
    "Features:\n",
    "\n",
    "1. Rather than relying on a rigid map-then-reduce format, its engine can execute a more general directed acyclic graph (DAG) of operators.\n",
    "2. it complements this capability with a rich set of transformations that enable users to express computation more naturally.\n",
    "3. Spark extends its predecessors with in-memory processing.\n",
    "4. Sitting atop the JVM, it can take advantage of many of the operational and debugging tools built for the Java stack.\n",
    "5. Spark boasts strong integration with the variety of tools in the Hadoop ecosystem."
   ]
  }
 ],
 "metadata": {
  "kernelspec": {
   "display_name": "Apache Toree - Scala",
   "language": "scala",
   "name": "apache_toree_scala"
  },
  "language_info": {
   "name": "scala",
   "version": "2.11.8"
  }
 },
 "nbformat": 4,
 "nbformat_minor": 2
}
